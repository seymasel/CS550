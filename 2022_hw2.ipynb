{
  "nbformat": 4,
  "nbformat_minor": 0,
  "metadata": {
    "colab": {
      "provenance": [],
      "authorship_tag": "ABX9TyNlonCoxHMSQIN8wyAh87pe",
      "include_colab_link": true
    },
    "kernelspec": {
      "name": "python3",
      "display_name": "Python 3"
    },
    "language_info": {
      "name": "python"
    }
  },
  "cells": [
    {
      "cell_type": "markdown",
      "metadata": {
        "id": "view-in-github",
        "colab_type": "text"
      },
      "source": [
        "<a href=\"https://colab.research.google.com/github/seymasel/CS550/blob/main/2022_hw2.ipynb\" target=\"_parent\"><img src=\"https://colab.research.google.com/assets/colab-badge.svg\" alt=\"Open In Colab\"/></a>"
      ]
    },
    {
      "cell_type": "markdown",
      "source": [
        "PART 1 LAMPORT'S LOGICAL CLOCKS\n"
      ],
      "metadata": {
        "id": "qQUE3slDaGBE"
      }
    },
    {
      "cell_type": "markdown",
      "source": [
        "REFERENCE: https://towardsdatascience.com/understanding-lamport-timestamps-with-pythons-multiprocessing-library-12a6427881c6"
      ],
      "metadata": {
        "id": "sfCQNwwo9hfR"
      }
    },
    {
      "cell_type": "code",
      "execution_count": null,
      "metadata": {
        "id": "toMySJuyTNFV"
      },
      "outputs": [],
      "source": [
        "from multiprocessing import Process, Pipe\n",
        "from os import getpid\n",
        "from datetime import datetime\n",
        "from time import sleep"
      ]
    },
    {
      "cell_type": "code",
      "source": [
        "def local_time(counter):\n",
        "    return ' (LAMPORT_TIME={}, LOCAL_TIME={})'.format(counter,datetime.now())"
      ],
      "metadata": {
        "id": "nGaWAxsFUFbt"
      },
      "execution_count": null,
      "outputs": []
    },
    {
      "cell_type": "code",
      "source": [
        "def calc_recv_timestamp(recv_time_stamp, counter):\n",
        "    return max(recv_time_stamp, counter) + 1"
      ],
      "metadata": {
        "id": "hrQ3qqTCUKBK"
      },
      "execution_count": null,
      "outputs": []
    },
    {
      "cell_type": "code",
      "source": [
        "def event(pid, counter):\n",
        "    counter += 1\n",
        "    print('Something happened in {} !'.\\\n",
        "          format(pid) + local_time(counter) + '\\r\\n')\n",
        "    return counter"
      ],
      "metadata": {
        "id": "9Jxk9v-KUOXE"
      },
      "execution_count": null,
      "outputs": []
    },
    {
      "cell_type": "code",
      "source": [
        "def send_message(pipe, pid, counter):\n",
        "    counter += 1\n",
        "    pipe.send(('Empty shell', counter))\n",
        "    print('Message sent from ' + str(pid) + local_time(counter) + '\\r\\n')\n",
        "    return counter"
      ],
      "metadata": {
        "id": "yb3-XvpxUVeD"
      },
      "execution_count": null,
      "outputs": []
    },
    {
      "cell_type": "code",
      "source": [
        "def recv_message(pipe, pid, counter):\n",
        "    message, timestamp = pipe.recv()\n",
        "    counter = calc_recv_timestamp(timestamp, counter)\n",
        "    print('Message received at ' + str(pid)  + local_time(counter) + '\\r\\n')\n",
        "    return counter"
      ],
      "metadata": {
        "id": "hqGNRhpSUdsh"
      },
      "execution_count": null,
      "outputs": []
    },
    {
      "cell_type": "code",
      "source": [
        "def process_one(pipe12,pipe13):\n",
        "    pid = getpid()\n",
        "    counter = 0\n",
        "    counter = event(pid, counter)\n",
        "    counter = send_message(pipe12, pid, counter)\n",
        "    counter = recv_message(pipe12, pid, counter)\n",
        "    counter = send_message(pipe13, pid, counter)\n",
        "    counter = recv_message(pipe13, pid, counter)\n",
        "    counter = send_message(pipe12, pid, counter)\n",
        "    counter  = event(pid, counter)\n",
        "\n",
        "def process_two(pipe21):\n",
        "    pid = getpid()\n",
        "    counter = 0\n",
        "    counter = send_message(pipe21, pid, counter)\n",
        "    counter = recv_message(pipe21, pid, counter)\n",
        "    counter = recv_message(pipe21, pid, counter)\n",
        "\n",
        "\n",
        "\n",
        "def process_three(pipe31):\n",
        "    pid = getpid()\n",
        "    counter = 0\n",
        "    counter  = event(pid, counter)    \n",
        "    counter = send_message(pipe31, pid, counter)\n",
        "    counter = recv_message(pipe31, pid, counter)\n"
      ],
      "metadata": {
        "id": "7preGsifUlKv"
      },
      "execution_count": null,
      "outputs": []
    },
    {
      "cell_type": "code",
      "source": [
        "if __name__ == '__main__':\n",
        "    oneandtwo, twoandone = Pipe()\n",
        "    oneandthree, threeandone = Pipe()\n",
        "\n",
        "    process1 = Process(target=process_one, \n",
        "                       args=(oneandtwo,oneandthree,))\n",
        "    process2 = Process(target=process_two,\n",
        "                       args=(twoandone,))\n",
        "    process3 = Process(target=process_three, \n",
        "                       args=(threeandone,))\n",
        "\n",
        "    process1.start()\n",
        "    process2.start()\n",
        "    process3.start()\n",
        "\n",
        "    process1.join()\n",
        "    process2.join()\n",
        "    process3.join()"
      ],
      "metadata": {
        "colab": {
          "base_uri": "https://localhost:8080/"
        },
        "id": "E5sGUeuaV5B9",
        "outputId": "3ca829dc-ad82-4ffc-e509-a22ccb0f3c71"
      },
      "execution_count": null,
      "outputs": [
        {
          "output_type": "stream",
          "name": "stdout",
          "text": [
            "Something happened in 2295 ! (LAMPORT_TIME=1, LOCAL_TIME=2022-12-09 12:28:11.205429)\n",
            "Message sent from 2298 (LAMPORT_TIME=1, LOCAL_TIME=2022-12-09 12:28:11.211888)\n",
            "\n",
            "\n",
            "Message received at 2298 (LAMPORT_TIME=3, LOCAL_TIME=2022-12-09 12:28:11.240428)\n",
            "Message sent from 2295 (LAMPORT_TIME=2, LOCAL_TIME=2022-12-09 12:28:11.240004)\n",
            "Something happened in 2301 ! (LAMPORT_TIME=1, LOCAL_TIME=2022-12-09 12:28:11.233657)\n",
            "\n",
            "\n",
            "\n",
            "Message received at 2295 (LAMPORT_TIME=3, LOCAL_TIME=2022-12-09 12:28:11.253911)\n",
            "Message sent from 2301 (LAMPORT_TIME=2, LOCAL_TIME=2022-12-09 12:28:11.258132)\n",
            "\n",
            "\n",
            "Message sent from 2295 (LAMPORT_TIME=4, LOCAL_TIME=2022-12-09 12:28:11.264433)\n",
            "Message received at 2301 (LAMPORT_TIME=5, LOCAL_TIME=2022-12-09 12:28:11.268628)\n",
            "\n",
            "\n",
            "Message received at 2295 (LAMPORT_TIME=5, LOCAL_TIME=2022-12-09 12:28:11.276612)\n",
            "\n",
            "Message sent from 2295 (LAMPORT_TIME=6, LOCAL_TIME=2022-12-09 12:28:11.290932)\n",
            "Message received at 2298 (LAMPORT_TIME=7, LOCAL_TIME=2022-12-09 12:28:11.291416)\n",
            "\n",
            "Something happened in 2295 ! (LAMPORT_TIME=7, LOCAL_TIME=2022-12-09 12:28:11.303717)\n",
            "\n",
            "\n"
          ]
        }
      ]
    },
    {
      "cell_type": "markdown",
      "source": [
        "PART 2 VECTORS CLOCKS\n"
      ],
      "metadata": {
        "id": "8YKk9e2qaCvK"
      }
    },
    {
      "cell_type": "code",
      "source": [
        "def calc_recv_timestamp(recv_time_stamp, counter):\n",
        "    for id  in range(len(counter)):\n",
        "        counter[id] = max(recv_time_stamp[id], counter[id])\n",
        "    return counter"
      ],
      "metadata": {
        "id": "2B-1kLvLXubT"
      },
      "execution_count": null,
      "outputs": []
    },
    {
      "cell_type": "code",
      "source": [
        "def event(pid, counter):\n",
        "    counter[pid] += 1\n",
        "    print('Something happened in {} !'.\\\n",
        "          format(pid) + local_time(counter)  + '\\r\\n')\n",
        "    return counter"
      ],
      "metadata": {
        "id": "W6Nku-WKb_1s"
      },
      "execution_count": null,
      "outputs": []
    },
    {
      "cell_type": "code",
      "source": [
        "def send_message(pipe, pid, counter):\n",
        "    counter[pid] += 1\n",
        "    pipe.send(('Empty shell', counter))\n",
        "    print('Message sent from ' + str(pid) + local_time(counter) + '\\r\\n')\n",
        "    return counter"
      ],
      "metadata": {
        "id": "551PnKqucseC"
      },
      "execution_count": null,
      "outputs": []
    },
    {
      "cell_type": "code",
      "source": [
        "def recv_message(pipe, pid, counter):\n",
        "    counter[pid] += 1\n",
        "    message, timestamp = pipe.recv()\n",
        "    counter = calc_recv_timestamp(timestamp, counter)\n",
        "    print('Message received at ' + str(pid)  + local_time(counter) + '\\r\\n')\n",
        "    return counter"
      ],
      "metadata": {
        "id": "AtpQWlelcxh4"
      },
      "execution_count": null,
      "outputs": []
    },
    {
      "cell_type": "code",
      "source": [
        "def process_one(pipe12,pipe13):\n",
        "    pid = 0\n",
        "    counter = [0,0,0]\n",
        "    counter = event(pid, counter)\n",
        "    counter = send_message(pipe12, pid, counter)\n",
        "    counter = recv_message(pipe12, pid, counter)\n",
        "    counter = send_message(pipe13, pid, counter)\n",
        "    counter = recv_message(pipe13, pid, counter)\n",
        "    counter = send_message(pipe12, pid, counter)\n",
        "    counter  = event(pid, counter)\n",
        "\n",
        "def process_two(pipe21):\n",
        "    pid = 1\n",
        "    counter = [0,0,0]\n",
        "    counter = send_message(pipe21, pid, counter)\n",
        "    counter = recv_message(pipe21, pid, counter)\n",
        "    counter = recv_message(pipe21, pid, counter)\n",
        "\n",
        "\n",
        "\n",
        "def process_three(pipe31):\n",
        "    pid = 2\n",
        "    counter = [0,0,0]\n",
        "    counter  = event(pid, counter)    \n",
        "    counter = send_message(pipe31, pid, counter)\n",
        "    counter = recv_message(pipe31, pid, counter)"
      ],
      "metadata": {
        "id": "2ZS6xZuzc3mm"
      },
      "execution_count": null,
      "outputs": []
    },
    {
      "cell_type": "code",
      "source": [
        "if __name__ == '__main__':\n",
        "    oneandtwo, twoandone = Pipe()\n",
        "    oneandthree, threeandone = Pipe()\n",
        "\n",
        "    process1 = Process(target=process_one, args=(oneandtwo,oneandthree,))\n",
        "    process2 = Process(target=process_two,args=(twoandone,))\n",
        "    process3 = Process(target=process_three, args=(threeandone,))\n",
        "\n",
        "    process1.start()\n",
        "    process2.start()\n",
        "    process3.start()\n",
        "\n",
        "    process1.join()\n",
        "    process2.join()\n",
        "    process3.join()"
      ],
      "metadata": {
        "colab": {
          "base_uri": "https://localhost:8080/"
        },
        "id": "iK8bMFAoc4_W",
        "outputId": "c9f1cdc4-f4f6-49ec-eaa3-34dbbda06056"
      },
      "execution_count": null,
      "outputs": [
        {
          "output_type": "stream",
          "name": "stdout",
          "text": [
            "Something happened in 0 ! (LAMPORT_TIME=[1, 0, 0], LOCAL_TIME=2022-12-09 12:28:11.421191)\n",
            "Message sent from 1 (LAMPORT_TIME=[0, 1, 0], LOCAL_TIME=2022-12-09 12:28:11.433736)\n",
            "\n",
            "Message sent from 0 (LAMPORT_TIME=[2, 0, 0], LOCAL_TIME=2022-12-09 12:28:11.450052)\n",
            "Something happened in 2 ! (LAMPORT_TIME=[0, 0, 1], LOCAL_TIME=2022-12-09 12:28:11.440667)\n",
            "\n",
            "\n",
            "\n",
            "Message received at 0 (LAMPORT_TIME=[3, 1, 0], LOCAL_TIME=2022-12-09 12:28:11.466976)\n",
            "Message received at 1 (LAMPORT_TIME=[2, 2, 0], LOCAL_TIME=2022-12-09 12:28:11.463365)\n",
            "\n",
            "Message sent from 2 (LAMPORT_TIME=[0, 0, 2], LOCAL_TIME=2022-12-09 12:28:11.472454)\n",
            "\n",
            "Message sent from 0 (LAMPORT_TIME=[4, 1, 0], LOCAL_TIME=2022-12-09 12:28:11.475080)\n",
            "\n",
            "Message received at 2 (LAMPORT_TIME=[4, 1, 3], LOCAL_TIME=2022-12-09 12:28:11.486631)\n",
            "\n",
            "Message received at 0 (LAMPORT_TIME=[5, 1, 2], LOCAL_TIME=2022-12-09 12:28:11.499718)\n",
            "\n",
            "\n",
            "Message received at 1 (LAMPORT_TIME=[6, 3, 2], LOCAL_TIME=2022-12-09 12:28:11.514398)\n",
            "Message sent from 0 (LAMPORT_TIME=[6, 1, 2], LOCAL_TIME=2022-12-09 12:28:11.514337)\n",
            "\n",
            "Something happened in 0 ! (LAMPORT_TIME=[7, 1, 2], LOCAL_TIME=2022-12-09 12:28:11.518264)\n",
            "\n",
            "\n"
          ]
        }
      ]
    }
  ]
}